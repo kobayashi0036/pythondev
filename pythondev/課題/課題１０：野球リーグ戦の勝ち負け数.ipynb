{
 "cells": [
  {
   "cell_type": "code",
   "execution_count": 24,
   "id": "4dcebab4",
   "metadata": {},
   "outputs": [
    {
     "name": "stdout",
     "output_type": "stream",
     "text": [
      "team      win  lose draw rate\n",
      "Archers   77    64   2   0.546\n",
      "Meteors   71    69   3   0.507\n",
      "Cheetahs  69    68   6   0.504\n",
      "Sharks    70    70   3   0.500\n",
      "Pythons   68    73   2   0.482\n",
      "Owls      59    82   2   0.418\n"
     ]
    }
   ],
   "source": [
    "class Baseball_Team:\n",
    "    def __init__(self,name,win,lose,draw):\n",
    "        self.name=name\n",
    "        self.win=win\n",
    "        self.lose=lose\n",
    "        self.draw=draw\n",
    "\n",
    "    def calc_win_rate(self):\n",
    "        return self.win/(self.win+self.lose)\n",
    "\n",
    "    def show_team_result(self):\n",
    "        rate=self.calc_win_rate()\n",
    "        print(f\"{self.name:<9} {self.win:<5} {self.lose:<4} {self.draw:<3} {rate:.3f}\")\n",
    "\n",
    "team=[Baseball_Team(\"Archers\",77,64,2),\n",
    "      Baseball_Team(\"Meteors\",71,69,3),\n",
    "      Baseball_Team(\"Cheetahs\",69,68,6),\n",
    "      Baseball_Team(\"Sharks\",70,70,3),\n",
    "      Baseball_Team(\"Pythons\",68,73,2),\n",
    "      Baseball_Team(\"Owls\",59,82,2)]\n",
    "\n",
    "print(f\"{'team':<9} {'win':<4} {'lose':<4} {'draw':<3} {'rate'}\")\n",
    "\n",
    "for i in team:\n",
    "    i.show_team_result()"
   ]
  }
 ],
 "metadata": {
  "kernelspec": {
   "display_name": ".venv",
   "language": "python",
   "name": "python3"
  },
  "language_info": {
   "codemirror_mode": {
    "name": "ipython",
    "version": 3
   },
   "file_extension": ".py",
   "mimetype": "text/x-python",
   "name": "python",
   "nbconvert_exporter": "python",
   "pygments_lexer": "ipython3",
   "version": "3.12.7"
  }
 },
 "nbformat": 4,
 "nbformat_minor": 5
}

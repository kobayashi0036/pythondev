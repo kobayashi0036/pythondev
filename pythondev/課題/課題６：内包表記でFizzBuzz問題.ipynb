{
 "cells": [
  {
   "cell_type": "code",
   "execution_count": null,
   "id": "c0d1a7c7",
   "metadata": {},
   "outputs": [],
   "source": [
    "list()\n",
    "\n",
    "num=[\"FizzBuzz\" if i%3==0 and i%5==0 else \"Fizz\" if i%3==0 else \"Buzz\" if i%5==0 else i for i in range(1,101)]\n",
    "print(num)"
   ]
  }
 ],
 "metadata": {
  "kernelspec": {
   "display_name": ".venv",
   "language": "python",
   "name": "python3"
  },
  "language_info": {
   "codemirror_mode": {
    "name": "ipython",
    "version": 3
   },
   "file_extension": ".py",
   "mimetype": "text/x-python",
   "name": "python",
   "nbconvert_exporter": "python",
   "pygments_lexer": "ipython3",
   "version": "3.12.7"
  }
 },
 "nbformat": 4,
 "nbformat_minor": 5
}

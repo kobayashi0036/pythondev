{
 "cells": [
  {
   "cell_type": "code",
   "execution_count": 1,
   "id": "22e1918f",
   "metadata": {},
   "outputs": [
    {
     "name": "stdout",
     "output_type": "stream",
     "text": [
      "入力した英単語：['animal', 'bear', 'cat', 'dog', 'mouse', 'penguin']\n",
      "aが4個ありました\n",
      "bが1個ありました\n",
      "cが1個ありました\n",
      "dが1個ありました\n",
      "eが3個ありました\n",
      "gが2個ありました\n",
      "iが2個ありました\n",
      "lが1個ありました\n",
      "mが2個ありました\n",
      "nが3個ありました\n",
      "oが2個ありました\n",
      "pが1個ありました\n",
      "rが1個ありました\n",
      "sが1個ありました\n",
      "tが1個ありました\n",
      "uが2個ありました\n"
     ]
    }
   ],
   "source": [
    "mainList=[]\n",
    "\n",
    "#アルファベットと初期値\n",
    "#chr()でUnicodeを文字列に、ord()で文字列をUnicodeに\n",
    "abcCount={chr(i):0 for i in range(ord(\"a\"),ord(\"z\")+1)}\n",
    "\n",
    "#英単語の入力（何も入らなかったら終了）\n",
    "while True:\n",
    "    word=input(\"英単語を入力してください:\")\n",
    "    if word==\"\":\n",
    "        break\n",
    "\n",
    "    #リストに格納\n",
    "    mainList.append(word)\n",
    "\n",
    "    #登場した数を加算\n",
    "    for a in word:#１文字ずつ\n",
    "        if \"a\"<= a <= \"z\":\n",
    "            abcCount[a]+=1\n",
    "\n",
    "#英単語のリストを表示　ABC順(sorted)\n",
    "print(f\"入力した英単語：{sorted(mainList)}\")\n",
    "\n",
    "#個数の表示\n",
    "for char,count in abcCount.items():#キーと値のペア\n",
    "    if count>0:\n",
    "        print(f\"{char}が{count}個ありました\")"
   ]
  }
 ],
 "metadata": {
  "kernelspec": {
   "display_name": ".venv",
   "language": "python",
   "name": "python3"
  },
  "language_info": {
   "codemirror_mode": {
    "name": "ipython",
    "version": 3
   },
   "file_extension": ".py",
   "mimetype": "text/x-python",
   "name": "python",
   "nbconvert_exporter": "python",
   "pygments_lexer": "ipython3",
   "version": "3.12.7"
  }
 },
 "nbformat": 4,
 "nbformat_minor": 5
}

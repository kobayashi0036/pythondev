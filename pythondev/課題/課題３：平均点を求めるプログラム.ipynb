{
 "cells": [
  {
   "cell_type": "code",
   "execution_count": 3,
   "id": "4dcdb244",
   "metadata": {},
   "outputs": [
    {
     "name": "stdout",
     "output_type": "stream",
     "text": [
      "10人のテストの平均点は73.4点です\n"
     ]
    }
   ],
   "source": [
    "score=int(input(\"点数を入力してください：\"))\n",
    "totalScore=0\n",
    "average=0\n",
    "student=0\n",
    "\n",
    "while score!=-1:\n",
    "    student+=1\n",
    "    totalScore=totalScore+score\n",
    "    average=totalScore/student\n",
    "    score=int(input(\"点数を入力してください：\"))\n",
    "\n",
    "print(f\"{student}人のテストの平均点は{average}点です\")"
   ]
  }
 ],
 "metadata": {
  "kernelspec": {
   "display_name": ".venv",
   "language": "python",
   "name": "python3"
  },
  "language_info": {
   "codemirror_mode": {
    "name": "ipython",
    "version": 3
   },
   "file_extension": ".py",
   "mimetype": "text/x-python",
   "name": "python",
   "nbconvert_exporter": "python",
   "pygments_lexer": "ipython3",
   "version": "3.12.7"
  }
 },
 "nbformat": 4,
 "nbformat_minor": 5
}

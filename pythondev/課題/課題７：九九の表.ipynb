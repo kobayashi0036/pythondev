{
 "cells": [
  {
   "cell_type": "code",
   "execution_count": null,
   "id": "f04930e9",
   "metadata": {},
   "outputs": [],
   "source": [
    "#@title 九九の表を表示する\n",
    "for v in range(1, 10):\n",
    "    for h in range(1, 10):\n",
    "        print(f\"{(v * h):3d}\", end=\"\")\n",
    "\n",
    "    print(\"\")"
   ]
  }
 ],
 "metadata": {
  "language_info": {
   "name": "python"
  }
 },
 "nbformat": 4,
 "nbformat_minor": 5
}
